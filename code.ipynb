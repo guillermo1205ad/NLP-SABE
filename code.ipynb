{
  "nbformat": 4,
  "nbformat_minor": 0,
  "metadata": {
    "colab": {
      "provenance": []
    },
    "kernelspec": {
      "name": "python3",
      "display_name": "Python 3"
    },
    "language_info": {
      "name": "python"
    }
  },
  "cells": [
    {
      "cell_type": "code",
      "execution_count": 1,
      "metadata": {
        "colab": {
          "base_uri": "https://localhost:8080/"
        },
        "id": "aib_0wBkYcG-",
        "outputId": "fc21f808-ce15-447c-c8d0-3ed6a54f6d9e"
      },
      "outputs": [
        {
          "output_type": "stream",
          "name": "stdout",
          "text": [
            "Collecting python-docx\n",
            "  Downloading python_docx-1.1.2-py3-none-any.whl.metadata (2.0 kB)\n",
            "Requirement already satisfied: nltk in /usr/local/lib/python3.11/dist-packages (3.9.1)\n",
            "Requirement already satisfied: matplotlib in /usr/local/lib/python3.11/dist-packages (3.10.0)\n",
            "Requirement already satisfied: pandas in /usr/local/lib/python3.11/dist-packages (2.2.2)\n",
            "Collecting replicate\n",
            "  Downloading replicate-1.0.4-py3-none-any.whl.metadata (29 kB)\n",
            "Requirement already satisfied: seaborn in /usr/local/lib/python3.11/dist-packages (0.13.2)\n",
            "Collecting xlsxwriter\n",
            "  Downloading XlsxWriter-3.2.2-py3-none-any.whl.metadata (2.8 kB)\n",
            "Requirement already satisfied: lxml>=3.1.0 in /usr/local/lib/python3.11/dist-packages (from python-docx) (5.3.1)\n",
            "Requirement already satisfied: typing-extensions>=4.9.0 in /usr/local/lib/python3.11/dist-packages (from python-docx) (4.12.2)\n",
            "Requirement already satisfied: click in /usr/local/lib/python3.11/dist-packages (from nltk) (8.1.8)\n",
            "Requirement already satisfied: joblib in /usr/local/lib/python3.11/dist-packages (from nltk) (1.4.2)\n",
            "Requirement already satisfied: regex>=2021.8.3 in /usr/local/lib/python3.11/dist-packages (from nltk) (2024.11.6)\n",
            "Requirement already satisfied: tqdm in /usr/local/lib/python3.11/dist-packages (from nltk) (4.67.1)\n",
            "Requirement already satisfied: contourpy>=1.0.1 in /usr/local/lib/python3.11/dist-packages (from matplotlib) (1.3.1)\n",
            "Requirement already satisfied: cycler>=0.10 in /usr/local/lib/python3.11/dist-packages (from matplotlib) (0.12.1)\n",
            "Requirement already satisfied: fonttools>=4.22.0 in /usr/local/lib/python3.11/dist-packages (from matplotlib) (4.56.0)\n",
            "Requirement already satisfied: kiwisolver>=1.3.1 in /usr/local/lib/python3.11/dist-packages (from matplotlib) (1.4.8)\n",
            "Requirement already satisfied: numpy>=1.23 in /usr/local/lib/python3.11/dist-packages (from matplotlib) (1.26.4)\n",
            "Requirement already satisfied: packaging>=20.0 in /usr/local/lib/python3.11/dist-packages (from matplotlib) (24.2)\n",
            "Requirement already satisfied: pillow>=8 in /usr/local/lib/python3.11/dist-packages (from matplotlib) (11.1.0)\n",
            "Requirement already satisfied: pyparsing>=2.3.1 in /usr/local/lib/python3.11/dist-packages (from matplotlib) (3.2.1)\n",
            "Requirement already satisfied: python-dateutil>=2.7 in /usr/local/lib/python3.11/dist-packages (from matplotlib) (2.8.2)\n",
            "Requirement already satisfied: pytz>=2020.1 in /usr/local/lib/python3.11/dist-packages (from pandas) (2025.1)\n",
            "Requirement already satisfied: tzdata>=2022.7 in /usr/local/lib/python3.11/dist-packages (from pandas) (2025.1)\n",
            "Requirement already satisfied: httpx<1,>=0.21.0 in /usr/local/lib/python3.11/dist-packages (from replicate) (0.28.1)\n",
            "Requirement already satisfied: pydantic>1.10.7 in /usr/local/lib/python3.11/dist-packages (from replicate) (2.10.6)\n",
            "Requirement already satisfied: anyio in /usr/local/lib/python3.11/dist-packages (from httpx<1,>=0.21.0->replicate) (3.7.1)\n",
            "Requirement already satisfied: certifi in /usr/local/lib/python3.11/dist-packages (from httpx<1,>=0.21.0->replicate) (2025.1.31)\n",
            "Requirement already satisfied: httpcore==1.* in /usr/local/lib/python3.11/dist-packages (from httpx<1,>=0.21.0->replicate) (1.0.7)\n",
            "Requirement already satisfied: idna in /usr/local/lib/python3.11/dist-packages (from httpx<1,>=0.21.0->replicate) (3.10)\n",
            "Requirement already satisfied: h11<0.15,>=0.13 in /usr/local/lib/python3.11/dist-packages (from httpcore==1.*->httpx<1,>=0.21.0->replicate) (0.14.0)\n",
            "Requirement already satisfied: annotated-types>=0.6.0 in /usr/local/lib/python3.11/dist-packages (from pydantic>1.10.7->replicate) (0.7.0)\n",
            "Requirement already satisfied: pydantic-core==2.27.2 in /usr/local/lib/python3.11/dist-packages (from pydantic>1.10.7->replicate) (2.27.2)\n",
            "Requirement already satisfied: six>=1.5 in /usr/local/lib/python3.11/dist-packages (from python-dateutil>=2.7->matplotlib) (1.17.0)\n",
            "Requirement already satisfied: sniffio>=1.1 in /usr/local/lib/python3.11/dist-packages (from anyio->httpx<1,>=0.21.0->replicate) (1.3.1)\n",
            "Downloading python_docx-1.1.2-py3-none-any.whl (244 kB)\n",
            "\u001b[2K   \u001b[90m━━━━━━━━━━━━━━━━━━━━━━━━━━━━━━━━━━━━━━━━\u001b[0m \u001b[32m244.3/244.3 kB\u001b[0m \u001b[31m5.0 MB/s\u001b[0m eta \u001b[36m0:00:00\u001b[0m\n",
            "\u001b[?25hDownloading replicate-1.0.4-py3-none-any.whl (48 kB)\n",
            "\u001b[2K   \u001b[90m━━━━━━━━━━━━━━━━━━━━━━━━━━━━━━━━━━━━━━━━\u001b[0m \u001b[32m48.0/48.0 kB\u001b[0m \u001b[31m2.4 MB/s\u001b[0m eta \u001b[36m0:00:00\u001b[0m\n",
            "\u001b[?25hDownloading XlsxWriter-3.2.2-py3-none-any.whl (165 kB)\n",
            "\u001b[2K   \u001b[90m━━━━━━━━━━━━━━━━━━━━━━━━━━━━━━━━━━━━━━━━\u001b[0m \u001b[32m165.1/165.1 kB\u001b[0m \u001b[31m4.1 MB/s\u001b[0m eta \u001b[36m0:00:00\u001b[0m\n",
            "\u001b[?25hInstalling collected packages: xlsxwriter, python-docx, replicate\n",
            "Successfully installed python-docx-1.1.2 replicate-1.0.4 xlsxwriter-3.2.2\n"
          ]
        }
      ],
      "source": [
        "!pip install python-docx nltk matplotlib pandas replicate seaborn xlsxwriter"
      ]
    },
    {
      "cell_type": "code",
      "source": [
        "# r8_52F6ybHAUMB18XMdvCdbEZsC8SUGgS8161dCy"
      ],
      "metadata": {
        "id": "nT80ZI6yYoUV"
      },
      "execution_count": null,
      "outputs": []
    },
    {
      "cell_type": "code",
      "source": [
        "# Importación de bibliotecas\n",
        "import docx\n",
        "import nltk\n",
        "import pandas as pd\n",
        "import re\n",
        "from nltk.corpus import stopwords\n",
        "import replicate\n",
        "import xlsxwriter\n",
        "\n",
        "# Descargar stopwords en español\n",
        "nltk.download('stopwords')\n",
        "\n",
        "# Función para leer el documento Word\n",
        "def leer_documento_word(ruta_archivo):\n",
        "    doc = docx.Document(ruta_archivo)\n",
        "    return ' '.join([p.text for p in doc.paragraphs])\n",
        "\n",
        "# Función para extraer competencias con LLM\n",
        "def extraer_competencias(api_key, modelo, texto):\n",
        "    prompt = f\"\"\"Analiza el texto y lista las competencias profesionales más relevantes:\n",
        "\n",
        "    {texto[:10000]}\n",
        "\n",
        "    Formato requerido:\n",
        "    1. Competencia 1\n",
        "    2. Competencia 2\n",
        "    ...\"\"\"\n",
        "\n",
        "    try:\n",
        "        cliente = replicate.Client(api_token=api_key)\n",
        "        resultado = cliente.run(modelo, input={\"prompt\": prompt})\n",
        "        return re.findall(r'\\d+\\.\\s+(.+?)(?=\\d+\\.|$)', ''.join(resultado), re.DOTALL)\n",
        "    except Exception as e:\n",
        "        print(f\"Error: {e}\")\n",
        "        return []\n",
        "\n",
        "# Función para calcular frecuencias mejorada\n",
        "def calcular_frecuencias(texto, competencias):\n",
        "    texto_limpio = re.sub(r'[^\\w\\s]', '', texto.lower())\n",
        "    frecuencias = {}\n",
        "\n",
        "    for competencia in competencias:\n",
        "        palabras_clave = [p for p in competencia.lower().split()\n",
        "                        if p not in stopwords.words('spanish') and len(p) > 3]\n",
        "        count = 0\n",
        "        for palabra in palabras_clave:\n",
        "            count += texto_limpio.count(palabra)\n",
        "        frecuencias[competencia] = count if count > 0 else 1  # Evitar ceros\n",
        "\n",
        "    return dict(sorted(frecuencias.items(), key=lambda x: x[1], reverse=True))\n",
        "\n",
        "# Función para mostrar tabla detallada\n",
        "def mostrar_tabla(frecuencias):\n",
        "    df = pd.DataFrame(frecuencias.items(), columns=['Competencia', 'Frecuencia'])\n",
        "    df['% Importancia'] = (df['Frecuencia'] / df['Frecuencia'].sum() * 100).round(2)\n",
        "    df['Nivel de Prioridad'] = pd.cut(df['% Importancia'],\n",
        "                                    bins=3,\n",
        "                                    labels=['Alta', 'Media', 'Baja'])\n",
        "\n",
        "    print(\"\\nTabla de Competencias Prioritarias:\")\n",
        "    print(df.to_string(index=False))\n",
        "\n",
        "    # Guardar en Excel con formato\n",
        "    writer = pd.ExcelWriter('competencias_prioritarias.xlsx', engine='xlsxwriter')\n",
        "    df.to_excel(writer, index=False)\n",
        "\n",
        "    # Formatear el archivo Excel\n",
        "    workbook = writer.book\n",
        "    worksheet = writer.sheets['Sheet1']\n",
        "\n",
        "    # Formato para porcentajes\n",
        "    percent_format = workbook.add_format({'num_format': '0.00%'})\n",
        "    worksheet.set_column('C:C', 12, percent_format)\n",
        "\n",
        "    # Formato condicional\n",
        "    worksheet.conditional_format('B2:B16', {\n",
        "        'type': 'data_bar',\n",
        "        'bar_color': '#63C384'\n",
        "    })\n",
        "\n",
        "    writer.close()\n",
        "\n",
        "# Función principal simplificada\n",
        "def main():\n",
        "    texto = leer_documento_word(\"/content/Gastron_internacional_CFT-ST.docx\")\n",
        "    competencias = extraer_competencias(\"r8_52F6ybHAUMB18XMdvCdbEZsC8SUGgS8161dCy\",\n",
        "                                      \"meta/meta-llama-3-70b-instruct\",\n",
        "                                      texto)\n",
        "\n",
        "    if competencias:\n",
        "        frecuencias = calcular_frecuencias(texto, competencias)\n",
        "        mostrar_tabla(frecuencias)\n",
        "    else:\n",
        "        print(\"No se encontraron competencias\")\n",
        "\n",
        "if __name__ == \"__main__\":\n",
        "    main()"
      ],
      "metadata": {
        "colab": {
          "base_uri": "https://localhost:8080/"
        },
        "id": "WNBjoOj7lUEO",
        "outputId": "37bbef7a-f150-4c54-c07e-dfb028cc0277"
      },
      "execution_count": 2,
      "outputs": [
        {
          "output_type": "stream",
          "name": "stderr",
          "text": [
            "[nltk_data] Downloading package stopwords to /root/nltk_data...\n",
            "[nltk_data]   Unzipping corpora/stopwords.zip.\n"
          ]
        },
        {
          "output_type": "stream",
          "name": "stdout",
          "text": [
            "\n",
            "Tabla de Competencias Prioritarias:\n",
            "                                                                                                                                                                                                                           Competencia  Frecuencia  % Importancia Nivel de Prioridad\n",
            "                                        **Comunicación Efectiva**: Comunicar en forma verbal y no verbal, utilizando estrategias de habilidades comunicativas para expresar aspectos del quehacer social, académico y profesional.\\n\\n          19          16.10               Baja\n",
            "**Comunicación en Idiomas**: Utilizar frases y expresiones relacionadas con su área de experiencia destinadas a comunicarse de manera efectiva en un idioma extranjero (en este caso, nivel A1 del Marco Común Europeo de Referencia).          19          16.10               Baja\n",
            "                          **Análisis y Resolución de Problemas**: Utilizar las herramientas básicas de las ciencias para la representación de información, argumentación de resultados y resolución de problemas contextualizados.\\n\\n          16          13.56               Baja\n",
            "                                                                **Gestión de Recursos**: Gestionar recursos de la producción gastronómica, considerando la cadena de valor desde la concepción hasta la distribución del producto.\\n\\n          12          10.17               Alta\n",
            "                                                                                      **Servicio al Cliente**: Generar una oferta gastronómica y su maridaje, entregando una atención cordial en el servicio de alimento y bebida.\\n\\n          12          10.17               Alta\n",
            "                                                                                             **Competencia Digital**: Utilizar herramientas digitales básicas para la búsqueda, selección, síntesis y presentación de información.\\n\\n          12          10.17               Alta\n",
            "                                                                               **Trabajo Colaborativo**: Trabajar colaborativamente en la adaptación o generación de soluciones a problemas propios de su área de especialización.\\n\\n          10           8.47               Alta\n",
            "                                                    **Competencia en Técnicas Gastronómicas**: Ejecutar técnicas gastronómicas en la elaboración de preparaciones de la cocina y la pastelería nacional, regional e internacional.\\n\\n           9           7.63               Alta\n",
            "                                                                           **Ética Profesional**: Aplicar los principios éticos de su profesión de acuerdo con el rol que desempeña y su relación con los valores institucionales.\\n\\n           9           7.63               Alta\n"
          ]
        }
      ]
    }
  ]
}